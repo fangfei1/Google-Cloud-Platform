{
 "cells": [
  {
   "cell_type": "markdown",
   "metadata": {},
   "source": [
    "# Google Cloud Platform: Geocoding API\n",
    "\n",
    "Using Geocoding API from Google Cloud to get the coordinates for address"
   ]
  },
  {
   "cell_type": "code",
   "execution_count": 2,
   "metadata": {},
   "outputs": [],
   "source": [
    "import numpy as np\n",
    "import pandas as pd"
   ]
  },
  {
   "cell_type": "code",
   "execution_count": null,
   "metadata": {},
   "outputs": [],
   "source": [
    "## Read file\n",
    "data=pd.read_csv(r'/Users/admin/Desktop/ADDRESS.csv')\n",
    "\n",
    "## Create Null columns to store data\n",
    "data.loc[:,'long']=None\n",
    "data.loc[:,'lat']=None\n",
    "\n",
    "import googlemaps\n",
    "gmaps_key=googlemaps.Client(key='Your GOOGLEAPI KEY')\n",
    "\n",
    "\n",
    "\n",
    "def translate(data1):\n",
    "    for i in range(0,len(data1),1):\n",
    "        result=gmaps_key.geocode(data1.iat[4,5])\n",
    "        try:\n",
    "\t\t\tlat=result[0]['geometry']['location']['lat']\n",
    "\t\t\tlon=result[0]['geometry']['location']['lng']\n",
    "\t\t\tdata1.iat[i,data1.columns.get_loc('lat')]=lat\n",
    "\t\t\tdata1.iat[i,data1.columns.get_loc('long')]=lon\n",
    "\t\texcept:\n",
    "\t\t\tlat=None\n",
    "\t\t\tlon=None\n",
    "\n",
    "translate(data)\n",
    "\n",
    "## Export data to your local drive\n",
    "data.to_csv(r'/Users/admin/Desktop/ADDRESS_result.csv')"
   ]
  }
 ],
 "metadata": {
  "kernelspec": {
   "display_name": "Python 3",
   "language": "python",
   "name": "python3"
  },
  "language_info": {
   "codemirror_mode": {
    "name": "ipython",
    "version": 3
   },
   "file_extension": ".py",
   "mimetype": "text/x-python",
   "name": "python",
   "nbconvert_exporter": "python",
   "pygments_lexer": "ipython3",
   "version": "3.6.4"
  }
 },
 "nbformat": 4,
 "nbformat_minor": 2
}
